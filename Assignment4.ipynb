{
 "cells": [
  {
   "cell_type": "markdown",
   "metadata": {},
   "source": [
    "1.1 Write a program to find the area of the triangle using the below formula\n",
    "(s(s-a)(s-b)(s-c))**0.5\n",
    "\n",
    "Function to take the length of the sides of triangle from user should be defined in the parent class and function to calculate \n",
    "the area should be defined in the subclass"
   ]
  },
  {
   "cell_type": "code",
   "execution_count": 14,
   "metadata": {},
   "outputs": [
    {
     "name": "stdout",
     "output_type": "stream",
     "text": [
      "Enter the size of side a : 4\n",
      "Enter the size of side b : 5\n",
      "Enter the size of side c : 6\n"
     ]
    },
    {
     "data": {
      "text/plain": [
       "9.921567416492215"
      ]
     },
     "execution_count": 14,
     "metadata": {},
     "output_type": "execute_result"
    }
   ],
   "source": [
    "class side_length:\n",
    "    \n",
    "    def __init__(self):\n",
    "        self.a=int(input(\"Enter the size of side a : \"))\n",
    "        self.b=int(input(\"Enter the size of side b : \"))\n",
    "        self.c=int(input(\"Enter the size of side c : \"))\n",
    "    \n",
    "class Area(side_length):\n",
    "    def __init__(self,*args):\n",
    "        super(Area,self).__init__(*args)\n",
    "        self.semi_perimtr = (self.a+self.b+self.c)/2\n",
    "        \n",
    "    def calc(self):\n",
    "        area=float(((self.semi_perimtr)*(self.semi_perimtr-self.a)*(self.semi_perimtr-self.b)*(self.semi_perimtr-self.c))**0.5)\n",
    "        return area\n",
    "    \n",
    "ar=Area()\n",
    "ar.calc()"
   ]
  },
  {
   "cell_type": "markdown",
   "metadata": {},
   "source": [
    "1.2 Write a function filter_long_words() that takes a list of words and an integer n and returns the list of words that are longer than n."
   ]
  },
  {
   "cell_type": "code",
   "execution_count": 9,
   "metadata": {},
   "outputs": [],
   "source": [
    "def filter_long_words(lst,n):\n",
    "    long_wrds=[]\n",
    "    for wrd in lst:\n",
    "        if int(len(wrd))>n:\n",
    "            long_wrds.append(wrd)\n",
    "    return long_wrds    \n",
    "    "
   ]
  },
  {
   "cell_type": "code",
   "execution_count": 10,
   "metadata": {},
   "outputs": [
    {
     "name": "stdout",
     "output_type": "stream",
     "text": [
      "Enter the maximum length of words 4\n"
     ]
    },
    {
     "data": {
      "text/plain": [
       "['welcome', 'champion', 'missed', 'badly']"
      ]
     },
     "execution_count": 10,
     "metadata": {},
     "output_type": "execute_result"
    }
   ],
   "source": [
    "n=int(input(\"Enter the maximum length of words \"))\n",
    "lst=['welcome','home','champion','You','were','missed','badly']\n",
    "\n",
    "lst_of_wrds=filter_long_words(lst,n)\n",
    "lst_of_wrds"
   ]
  },
  {
   "cell_type": "markdown",
   "metadata": {},
   "source": [
    "2.1 Write a Python program using function concepts that maps list of words into a list of integers representing the lengths of the corresponding words."
   ]
  },
  {
   "cell_type": "code",
   "execution_count": 40,
   "metadata": {},
   "outputs": [],
   "source": [
    "def wrds_numbr(lst):\n",
    "    return int(len(lst))      "
   ]
  },
  {
   "cell_type": "code",
   "execution_count": 41,
   "metadata": {},
   "outputs": [
    {
     "data": {
      "text/plain": [
       "[7, 4, 2, 6, 3]"
      ]
     },
     "execution_count": 41,
     "metadata": {},
     "output_type": "execute_result"
    }
   ],
   "source": [
    "lst=['welcome','home','we','missed','you']\n",
    "final_lst = list(map(wrds_numbr,lst))\n",
    "final_lst"
   ]
  },
  {
   "cell_type": "markdown",
   "metadata": {},
   "source": [
    "2.2 Write a Python function which takes a character (i.e. a string of length 1) and returns True if\n",
    "it is a vowel, False otherwise."
   ]
  },
  {
   "cell_type": "code",
   "execution_count": 17,
   "metadata": {},
   "outputs": [
    {
     "name": "stdout",
     "output_type": "stream",
     "text": [
      "Enter a vowel A\n"
     ]
    },
    {
     "data": {
      "text/plain": [
       "True"
      ]
     },
     "execution_count": 17,
     "metadata": {},
     "output_type": "execute_result"
    }
   ],
   "source": [
    "def check_vowel(str1):\n",
    "    vowels=['a','e','i','o','u']\n",
    "    str1=str1.lower()\n",
    "    if len(str1)>1:\n",
    "        print(\"Enter a single character\")\n",
    "    else:\n",
    "        for i in vowels:\n",
    "            if i==str1:\n",
    "                return True\n",
    "            else:\n",
    "                continue\n",
    "        return False\n",
    "\n",
    "str1=str(input(\"Enter a vowel \"))\n",
    "check_vowel(str1)\n",
    "        "
   ]
  }
 ],
 "metadata": {
  "kernelspec": {
   "display_name": "Python 3",
   "language": "python",
   "name": "python3"
  },
  "language_info": {
   "codemirror_mode": {
    "name": "ipython",
    "version": 3
   },
   "file_extension": ".py",
   "mimetype": "text/x-python",
   "name": "python",
   "nbconvert_exporter": "python",
   "pygments_lexer": "ipython3",
   "version": "3.7.6"
  }
 },
 "nbformat": 4,
 "nbformat_minor": 4
}
